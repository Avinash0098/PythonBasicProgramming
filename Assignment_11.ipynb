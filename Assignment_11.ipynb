{
 "cells": [
  {
   "cell_type": "markdown",
   "id": "7f85b4e5",
   "metadata": {},
   "source": [
    "# Assignment_11"
   ]
  },
  {
   "cell_type": "markdown",
   "id": "12244b79",
   "metadata": {},
   "source": [
    "### 1. Create an assert statement that throws an AssertionError if the variable spam is a negative integer."
   ]
  },
  {
   "cell_type": "markdown",
   "id": "d128789a",
   "metadata": {},
   "source": [
    "Answer:  spam = -22\n",
    "    assert spam >=0, 'Variable Spam should not be a -ve number'"
   ]
  },
  {
   "cell_type": "markdown",
   "id": "1cd8b0cb",
   "metadata": {},
   "source": [
    "### 2. Write an assert statement that triggers an AssertionError if the variables eggs and bacon contain strings that are the same as each other, even if their cases are different (that is, 'hello' and 'hello' are considered the same, and 'goodbye' and 'GOODbye' are also considered the same)."
   ]
  },
  {
   "cell_type": "code",
   "execution_count": 1,
   "id": "fe54779a",
   "metadata": {},
   "outputs": [],
   "source": [
    "def raise_assert(egg,bacon):\n",
    "   egg = egg.upper()\n",
    "   bacon = bacon.upper()\n",
    "   assert not(egg == bacon), 'Eggs/Bacon should not be same, which are same now'\n",
    "   raise_assert('hello','HELLO')"
   ]
  },
  {
   "cell_type": "markdown",
   "id": "3ecb1ae1",
   "metadata": {},
   "source": [
    "### 3. Create an assert statement that throws an AssertionError every time."
   ]
  },
  {
   "cell_type": "markdown",
   "id": "a82d43f3",
   "metadata": {},
   "source": [
    "def assert_always():\n",
    "    assert False, 'Always Shows Assertion Error'\n",
    "assert_always()"
   ]
  },
  {
   "cell_type": "markdown",
   "id": "6aa98a44",
   "metadata": {},
   "source": [
    "### 4. What are the two lines that must be present in your software in order to call logging.debug()?"
   ]
  },
  {
   "cell_type": "code",
   "execution_count": 7,
   "id": "d4e3273c",
   "metadata": {},
   "outputs": [],
   "source": [
    "import logging\n",
    "logging.basicConfig(filename = 'application_log.txt',level=logging.DEBUG, format=' %(asctime)s - %(levelname)s - %(message)s')"
   ]
  },
  {
   "cell_type": "markdown",
   "id": "384ca033",
   "metadata": {},
   "source": [
    "### 5. What are the two lines that your program must have in order to have logging.debug() send a logging message to a file named programLog.txt?"
   ]
  },
  {
   "cell_type": "code",
   "execution_count": 9,
   "id": "e2d25ac4",
   "metadata": {},
   "outputs": [
    {
     "name": "stdout",
     "output_type": "stream",
     "text": [
      " 2023-02-06 22:24:08,649 - DEBUG - Data Inserted Successfully\n",
      "\n",
      " 2023-02-06 22:24:08,649 - DEBUG - Connection Closed Successfully\n",
      "\n"
     ]
    }
   ],
   "source": [
    "import logging\n",
    "logging.basicConfig(filename='programLog.txt', level=logging.DEBUG, filemode='w', format='%(asctime)s - %(levelname)s - %(message)s')\n",
    "logging.debug(\"Data Inserted Successfully\")\n",
    "logging.debug('Connection Closed Successfully')\n",
    "file = open(\"./application_log.txt\",\"r\")\n",
    "for record in file.readlines():\n",
    "    print(record)"
   ]
  },
  {
   "cell_type": "markdown",
   "id": "d692b272",
   "metadata": {},
   "source": [
    "### 6. What are the five levels of logging?"
   ]
  },
  {
   "cell_type": "markdown",
   "id": "c99327d1",
   "metadata": {},
   "source": [
    "Answer:The Five levels of Logging provided by python's logging module are:\n",
    "    1. CRITICAL(50) \n",
    "    2.ERROR(40)\n",
    "    3.WARNING(30)\n",
    "    4.INFO(20, DEBUG(10)\n",
    "    5.NOTSET(0)"
   ]
  },
  {
   "cell_type": "markdown",
   "id": "8bef3115",
   "metadata": {},
   "source": [
    "### 7. What line of code would you add to your software to disable all logging messages?"
   ]
  },
  {
   "cell_type": "markdown",
   "id": "b0e2d97b",
   "metadata": {},
   "source": [
    "logging.disable(logging.CRITICAL)"
   ]
  },
  {
   "cell_type": "markdown",
   "id": "3b4bb11d",
   "metadata": {},
   "source": [
    "### 8.Why is using logging messages better than using print() to display the same message?"
   ]
  },
  {
   "cell_type": "markdown",
   "id": "2c905aba",
   "metadata": {},
   "source": [
    "Answer: Post devlopment of your code, you can disable logging messages without removing the logging function,\n",
    "whereas you need to manually remove print() statements, which is tedious activity.\n",
    "and also print is used when you want to display any particular message or help whereas logging is used to record all events like error,info, debug messages, timestamps."
   ]
  },
  {
   "cell_type": "markdown",
   "id": "9cb38151",
   "metadata": {},
   "source": [
    "### 9. What are the differences between the Step Over, Step In, and Step Out buttons in the debugger?"
   ]
  },
  {
   "cell_type": "markdown",
   "id": "0629ec3c",
   "metadata": {},
   "source": [
    "Answer: The Differences between Step Over, Step In, Step Out buttons in debugger are:\n",
    "1.\tStep in - Step In button will cause the debugger to execute the next line of code and then pause again.\n",
    "2.\tStep Over - Step Over button will execute the next line of code, similar to the Step In button. However,\n",
    "    if the next line of code is a function call, the Step Over button will “step over” the code in the function. \n",
    "    The function’s code will be executed at full speed, and the debugger will pause as soon as the function call returns.\n",
    "3.\tStep out - Step Out button will cause the debugger to execute lines of code at full speed until it returns from the current     function."
   ]
  },
  {
   "cell_type": "markdown",
   "id": "4cdfddef",
   "metadata": {},
   "source": [
    "### 10.After you click Continue, when will the debugger stop ?"
   ]
  },
  {
   "cell_type": "markdown",
   "id": "7ddb8e5b",
   "metadata": {},
   "source": [
    "Answer: This will cause the program to continue running normally, without pausing for debugging untill it terminates or reaches a breakpoint."
   ]
  },
  {
   "cell_type": "markdown",
   "id": "30c4e2ae",
   "metadata": {},
   "source": [
    "### 11. What is the concept of a breakpoint?"
   ]
  },
  {
   "cell_type": "markdown",
   "id": "33754d1e",
   "metadata": {},
   "source": [
    "Answer: Breakpoint is a setting on a line of code that causes the debugger to pause when the program execution reaches the line"
   ]
  },
  {
   "cell_type": "code",
   "execution_count": null,
   "id": "f217124c",
   "metadata": {},
   "outputs": [],
   "source": []
  }
 ],
 "metadata": {
  "kernelspec": {
   "display_name": "Python 3 (ipykernel)",
   "language": "python",
   "name": "python3"
  },
  "language_info": {
   "codemirror_mode": {
    "name": "ipython",
    "version": 3
   },
   "file_extension": ".py",
   "mimetype": "text/x-python",
   "name": "python",
   "nbconvert_exporter": "python",
   "pygments_lexer": "ipython3",
   "version": "3.9.12"
  }
 },
 "nbformat": 4,
 "nbformat_minor": 5
}
