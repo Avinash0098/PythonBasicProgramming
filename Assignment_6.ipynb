{
 "cells": [
  {
   "cell_type": "markdown",
   "id": "d6931abb",
   "metadata": {},
   "source": [
    "# Assignment_6"
   ]
  },
  {
   "cell_type": "markdown",
   "id": "b4213238",
   "metadata": {},
   "source": [
    "### 1. What are escape characters, and how do you use them?"
   ]
  },
  {
   "cell_type": "markdown",
   "id": "db48c476",
   "metadata": {},
   "source": [
    "Answer: To insert characters that are illegal in a string, use an escape character.\n",
    "    An escape character is a backslash \\ followed by the character you want to insert."
   ]
  },
  {
   "cell_type": "code",
   "execution_count": 17,
   "id": "7382698c",
   "metadata": {},
   "outputs": [],
   "source": [
    "#For example:\n",
    "txt = \"We won the \\\"Cricket\\\" match.\""
   ]
  },
  {
   "cell_type": "markdown",
   "id": "5ce50c84",
   "metadata": {},
   "source": [
    "### 2. What do the escape characters n and t stand for?"
   ]
  },
  {
   "cell_type": "markdown",
   "id": "6b85a19a",
   "metadata": {},
   "source": [
    "Answer: It is used in representing certain whitespace characters: \n",
    "        t = tab, \n",
    "        n = newline"
   ]
  },
  {
   "cell_type": "markdown",
   "id": "bf9fd9b4",
   "metadata": {},
   "source": [
    "### 3. What is the way to include backslash characters in a string?"
   ]
  },
  {
   "cell_type": "markdown",
   "id": "9cbf4279",
   "metadata": {},
   "source": [
    "The backslash (\"\\\") character is a special escape character used to indicate other special characters.\n",
    "such as new lines (\\n), tabs (\\t), or quotation marks (\\\")."
   ]
  },
  {
   "cell_type": "markdown",
   "id": "ef8e15b7",
   "metadata": {},
   "source": [
    "### 4. The string \"Howl's Moving Castle\" is a correct value. Why isn't the single quote character in the word Howl's not escaped a problem?"
   ]
  },
  {
   "cell_type": "markdown",
   "id": "c893f063",
   "metadata": {},
   "source": [
    "Answer: The single quote in Howl's is fine because you have used double quotes to mark the beginning and end of the string."
   ]
  },
  {
   "cell_type": "markdown",
   "id": "c4c265f6",
   "metadata": {},
   "source": [
    "### 5. How do you write a string of newlines if you don't want to use the n character?"
   ]
  },
  {
   "cell_type": "markdown",
   "id": "082a1dd8",
   "metadata": {},
   "source": [
    "Ans: With triple-quoted string literals, you can use actual newlines instead of \\n"
   ]
  },
  {
   "cell_type": "markdown",
   "id": "d3f468e2",
   "metadata": {},
   "source": [
    "### 6. What are the values of the given expressions?\n",
    "'Hello, world!'[1]\n",
    "  'Hello, world!'[0:5]\n",
    "  'Hello, world!'[:5]\n",
    "  'Hello, world!'[3:]\n"
   ]
  },
  {
   "cell_type": "code",
   "execution_count": 10,
   "id": "82e57e8a",
   "metadata": {},
   "outputs": [
    {
     "data": {
      "text/plain": [
       "'e'"
      ]
     },
     "execution_count": 10,
     "metadata": {},
     "output_type": "execute_result"
    }
   ],
   "source": [
    "'Hello, world!'[1]"
   ]
  },
  {
   "cell_type": "code",
   "execution_count": 11,
   "id": "d734d6f3",
   "metadata": {},
   "outputs": [
    {
     "data": {
      "text/plain": [
       "'Hello'"
      ]
     },
     "execution_count": 11,
     "metadata": {},
     "output_type": "execute_result"
    }
   ],
   "source": [
    "'Hello, world!'[0:5]"
   ]
  },
  {
   "cell_type": "code",
   "execution_count": 12,
   "id": "41f8f1a0",
   "metadata": {},
   "outputs": [
    {
     "data": {
      "text/plain": [
       "'Hello'"
      ]
     },
     "execution_count": 12,
     "metadata": {},
     "output_type": "execute_result"
    }
   ],
   "source": [
    "'Hello, world!'[:5]"
   ]
  },
  {
   "cell_type": "code",
   "execution_count": 13,
   "id": "b616abce",
   "metadata": {},
   "outputs": [
    {
     "data": {
      "text/plain": [
       "'lo, world!'"
      ]
     },
     "execution_count": 13,
     "metadata": {},
     "output_type": "execute_result"
    }
   ],
   "source": [
    "'Hello, world!'[3:]"
   ]
  },
  {
   "cell_type": "markdown",
   "id": "bb785ffc",
   "metadata": {},
   "source": [
    "### 7. What are the values of the following expressions?\n",
    "'Hello'.upper()\n",
    "'Hello'.upper().isupper()\n",
    "'Hello'.upper().lower()\n"
   ]
  },
  {
   "cell_type": "code",
   "execution_count": 5,
   "id": "835aef1e",
   "metadata": {},
   "outputs": [
    {
     "data": {
      "text/plain": [
       "'HELLO'"
      ]
     },
     "execution_count": 5,
     "metadata": {},
     "output_type": "execute_result"
    }
   ],
   "source": [
    "'Hello'.upper()"
   ]
  },
  {
   "cell_type": "code",
   "execution_count": 6,
   "id": "5501b7b0",
   "metadata": {},
   "outputs": [
    {
     "data": {
      "text/plain": [
       "True"
      ]
     },
     "execution_count": 6,
     "metadata": {},
     "output_type": "execute_result"
    }
   ],
   "source": [
    "'Hello'.upper().isupper()"
   ]
  },
  {
   "cell_type": "code",
   "execution_count": 9,
   "id": "e79bd2bf",
   "metadata": {},
   "outputs": [
    {
     "data": {
      "text/plain": [
       "'hello'"
      ]
     },
     "execution_count": 9,
     "metadata": {},
     "output_type": "execute_result"
    }
   ],
   "source": [
    "'Hello'.upper().lower()"
   ]
  },
  {
   "cell_type": "markdown",
   "id": "778f38ab",
   "metadata": {},
   "source": [
    "### 8. What are the values of the following expressions?\n",
    "'Remember, remember, the fifth of July.'.split()\n",
    "'-'.join('There can only one.'.split())"
   ]
  },
  {
   "cell_type": "code",
   "execution_count": 14,
   "id": "eaa7350b",
   "metadata": {},
   "outputs": [
    {
     "data": {
      "text/plain": [
       "['Remember,', 'remember,', 'the', 'fifth', 'of', 'July.']"
      ]
     },
     "execution_count": 14,
     "metadata": {},
     "output_type": "execute_result"
    }
   ],
   "source": [
    "'Remember, remember, the fifth of July.'.split()"
   ]
  },
  {
   "cell_type": "code",
   "execution_count": 15,
   "id": "b53045b1",
   "metadata": {},
   "outputs": [
    {
     "data": {
      "text/plain": [
       "'There-can-only-one.'"
      ]
     },
     "execution_count": 15,
     "metadata": {},
     "output_type": "execute_result"
    }
   ],
   "source": [
    "'-'.join('There can only one.'.split())"
   ]
  },
  {
   "cell_type": "markdown",
   "id": "800a2f1a",
   "metadata": {},
   "source": [
    "### 9. What are the methods for right-justifying, left-justifying, and centering a string?"
   ]
  },
  {
   "cell_type": "markdown",
   "id": "a6cf790e",
   "metadata": {},
   "source": [
    "Ans: rjust(), ljust(), Center()"
   ]
  },
  {
   "cell_type": "markdown",
   "id": "9534e61a",
   "metadata": {},
   "source": [
    "### 10. What is the best way to remove whitespace characters from the start or end?"
   ]
  },
  {
   "cell_type": "markdown",
   "id": "2ce08ef0",
   "metadata": {},
   "source": [
    "Ans: trimStart() or trimEnd()"
   ]
  },
  {
   "cell_type": "code",
   "execution_count": null,
   "id": "f4a5e9a1",
   "metadata": {},
   "outputs": [],
   "source": []
  }
 ],
 "metadata": {
  "kernelspec": {
   "display_name": "Python 3 (ipykernel)",
   "language": "python",
   "name": "python3"
  },
  "language_info": {
   "codemirror_mode": {
    "name": "ipython",
    "version": 3
   },
   "file_extension": ".py",
   "mimetype": "text/x-python",
   "name": "python",
   "nbconvert_exporter": "python",
   "pygments_lexer": "ipython3",
   "version": "3.9.12"
  }
 },
 "nbformat": 4,
 "nbformat_minor": 5
}
