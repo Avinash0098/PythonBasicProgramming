{
 "cells": [
  {
   "cell_type": "markdown",
   "id": "bb06373f",
   "metadata": {},
   "source": [
    "# Assignment_7"
   ]
  },
  {
   "cell_type": "markdown",
   "id": "b52024b1",
   "metadata": {},
   "source": [
    "### 1. What is the name of the feature responsible for generating Regex objects?"
   ]
  },
  {
   "cell_type": "markdown",
   "id": "2e52ddd7",
   "metadata": {},
   "source": [
    "Answer: re.compile()"
   ]
  },
  {
   "cell_type": "markdown",
   "id": "e01cf0d4",
   "metadata": {},
   "source": [
    "### 2. Why do raw strings often appear in Regex objects?"
   ]
  },
  {
   "cell_type": "raw",
   "id": "8c151238",
   "metadata": {},
   "source": [
    "Ans: So if you don't have to escape backslashes. \n",
    "For example, instead of needing to use '\\\\d' for a digit, you can instead use r'\\d'."
   ]
  },
  {
   "cell_type": "markdown",
   "id": "5c6c8c29",
   "metadata": {},
   "source": [
    "### 3. What is the return value of the search() method?"
   ]
  },
  {
   "cell_type": "markdown",
   "id": "9deaf1f0",
   "metadata": {},
   "source": [
    "Ans: Either a Match object containing the first occurrence of a regular expression, or None."
   ]
  },
  {
   "cell_type": "markdown",
   "id": "b2c8de59",
   "metadata": {},
   "source": [
    "### 4. From a Match item, how do you get the actual strings that match the pattern?"
   ]
  },
  {
   "cell_type": "markdown",
   "id": "2e43e016",
   "metadata": {},
   "source": [
    "Ans: By calling the group method on the Match object."
   ]
  },
  {
   "cell_type": "markdown",
   "id": "da1c802d",
   "metadata": {},
   "source": [
    "### 5. In the regex which created from the r'(\\d\\d\\d)-(\\d\\d\\d-\\d\\d\\d\\d)', what does group zero cover? Group 2? Group 1?"
   ]
  },
  {
   "cell_type": "raw",
   "id": "b5ca38a8",
   "metadata": {},
   "source": [
    "Answer: group 0 covers the whole matching text, for example '111-111-1111'\n",
    "        group 1 covers the group in the first set of parentheses, for example '222'\n",
    "        group 2 covers the group in the second set of parentheses, for example '111-1111'"
   ]
  },
  {
   "cell_type": "markdown",
   "id": "a620b865",
   "metadata": {},
   "source": [
    "### 6. In standard expression syntax, parentheses and intervals have distinct meanings. How can you tell a regex that you want it to fit real parentheses and periods?"
   ]
  },
  {
   "cell_type": "raw",
   "id": "2a717885",
   "metadata": {},
   "source": [
    "Answer: You could escape these characters:\n",
    "\\(\n",
    "\\)\n",
    "\\."
   ]
  },
  {
   "cell_type": "markdown",
   "id": "17596401",
   "metadata": {},
   "source": [
    "### 7. The findall() method returns a string list or a list of string tuples. What causes it to return one of the two options?"
   ]
  },
  {
   "cell_type": "markdown",
   "id": "fa3f211c",
   "metadata": {},
   "source": [
    "Answer: If you use grouping parentheses, (), in the regular expression it will return a list of tuples. If you don't use groups, it will return a list of strings."
   ]
  },
  {
   "cell_type": "markdown",
   "id": "a1386d2f",
   "metadata": {},
   "source": [
    "### 8. In standard expressions, what does the | character mean?"
   ]
  },
  {
   "cell_type": "markdown",
   "id": "8583f146",
   "metadata": {},
   "source": [
    "Answer: It signifies Boolean or."
   ]
  },
  {
   "cell_type": "markdown",
   "id": "d9256cee",
   "metadata": {},
   "source": [
    "### 9. In regular expressions, what does the character stand for?"
   ]
  },
  {
   "cell_type": "markdown",
   "id": "85702f8b",
   "metadata": {},
   "source": [
    "Answer: It can signify that part of a regular expression is optional (i.e., it occurs 0 or 1 times), or that nongreedy matching should be used."
   ]
  },
  {
   "cell_type": "markdown",
   "id": "3c9e2ba3",
   "metadata": {},
   "source": [
    "### 10.In regular expressions, what is the difference between the + and * characters?"
   ]
  },
  {
   "cell_type": "raw",
   "id": "2e22c174",
   "metadata": {},
   "source": [
    "Answer: + means match one or more times. \n",
    "        * means match 0 or more times."
   ]
  },
  {
   "cell_type": "markdown",
   "id": "8d2aefe2",
   "metadata": {},
   "source": [
    "### 11. What is the difference between {4} and {4,5} in regular expression?"
   ]
  },
  {
   "cell_type": "raw",
   "id": "e286e40f",
   "metadata": {},
   "source": [
    "Answer:   {4} means match exactly 3 times.\n",
    "          {4,5} means match  4 or 5 times."
   ]
  },
  {
   "cell_type": "markdown",
   "id": "415ea77f",
   "metadata": {},
   "source": [
    "### 12. What do you mean by the \\d, \\w, and \\s shorthand character classes signify in regular expressions?"
   ]
  },
  {
   "cell_type": "raw",
   "id": "bac5b271",
   "metadata": {},
   "source": [
    "Answer: \\d stands for a numeric digit.\n",
    "        \\w stands for any letter, numeric digit, or the underscore character.\n",
    "       \\s stands for any space, tab, or newline character."
   ]
  },
  {
   "cell_type": "markdown",
   "id": "565b6d2d",
   "metadata": {},
   "source": [
    "### 13. What do means by \\D, \\W, and \\S shorthand character classes signify in regular expressions?"
   ]
  },
  {
   "cell_type": "raw",
   "id": "a8518bcc",
   "metadata": {},
   "source": [
    "Answer:  \\D stands for any character that is not a numeric digit.\n",
    "         \\W stands for any character that is not a letter, digit, or underscore.\n",
    "       \\S stands for any character that is not a space, tab, or newline."
   ]
  },
  {
   "cell_type": "markdown",
   "id": "ed051e7c",
   "metadata": {},
   "source": [
    "### 14. What is the difference between .*? and .*?"
   ]
  },
  {
   "cell_type": "raw",
   "id": "daa3eb9a",
   "metadata": {},
   "source": [
    "Answer: .* uses greedy matching.\n",
    "        .*? is the nongreedy version."
   ]
  },
  {
   "cell_type": "markdown",
   "id": "1f55c9ac",
   "metadata": {},
   "source": [
    "### 15. What is the syntax for matching both numbers and lowercase letters with a character class?"
   ]
  },
  {
   "cell_type": "markdown",
   "id": "9af8551d",
   "metadata": {},
   "source": [
    "Answer: [a-z0-9]"
   ]
  },
  {
   "cell_type": "markdown",
   "id": "4191445d",
   "metadata": {},
   "source": [
    "### 16. What is the procedure for making a normal expression in regax case insensitive?"
   ]
  },
  {
   "cell_type": "markdown",
   "id": "e65cfcbe",
   "metadata": {},
   "source": [
    "Answer: use the re.IGNORECASE (or re.I) argument in re.compile()."
   ]
  },
  {
   "cell_type": "markdown",
   "id": "9380c10f",
   "metadata": {},
   "source": [
    "### 17. What does the . character normally match? What does it match if re.DOTALL is passed as 2nd argument in re.compile()?"
   ]
  },
  {
   "cell_type": "raw",
   "id": "d9c8a95d",
   "metadata": {},
   "source": [
    "Answer: . normally matches any one character except the newline.\n",
    " If the re.DOTALL argument is used, a . matches any one character including the newline."
   ]
  },
  {
   "cell_type": "markdown",
   "id": "8ff3e5e3",
   "metadata": {},
   "source": [
    "### 18. If numReg = re.compile(r'\\d+'), what will numRegex.sub('X', '11 drummers, 10 pipers, five rings, 4 hen') return?"
   ]
  },
  {
   "cell_type": "markdown",
   "id": "05cc25dd",
   "metadata": {},
   "source": [
    "Answer: 'X drummers, X pipers, five rings, X hens'"
   ]
  },
  {
   "cell_type": "markdown",
   "id": "b512b2dd",
   "metadata": {},
   "source": [
    "### 19. What does passing re.VERBOSE as the 2nd argument to re.compile() allow to do?"
   ]
  },
  {
   "cell_type": "markdown",
   "id": "96ddbbc4",
   "metadata": {},
   "source": [
    "Answer: It allows you to ignore white space and comments in the regular expression string."
   ]
  },
  {
   "cell_type": "markdown",
   "id": "1ee81f88",
   "metadata": {},
   "source": [
    "### 20. How would you write a regex that match a number with comma for every three digits? It must match the given following:\n",
    "'42'\n",
    "'1,234'\n",
    "'6,368,745'\n",
    "but not the following:\n",
    "'12,34,567' (which has only two digits between the commas)\n",
    "'1234' (which lacks commas)"
   ]
  },
  {
   "cell_type": "markdown",
   "id": "1d33b1d9",
   "metadata": {},
   "source": [
    "Ans: r'((^\\d{1,3},)(\\d{3},)*\\d{3}$)|(^\\d{,3}$)' or r'^\\d{1,3}(,\\d{3})*$'"
   ]
  },
  {
   "cell_type": "markdown",
   "id": "f3ea1f1f",
   "metadata": {},
   "source": [
    "### 21. How would you write a regex that matches the full name of someone whose last name is Watanabe? You can assume that the first name that comes before it will always be one word that begins with a capital letter. The regex must match the following:\n",
    "'Haruto Watanabe'\n",
    "'Alice Watanabe'\n",
    "'RoboCop Watanabe'\n",
    "but not the following:\n",
    "'haruto Watanabe' (where the first name is not capitalized)\n",
    "'Mr. Watanabe' (where the preceding word has a nonletter character)\n",
    "'Watanabe' (which has no first name)\n",
    "'Haruto watanabe' (where Watanabe is not capitalized)\n"
   ]
  },
  {
   "cell_type": "markdown",
   "id": "6913a215",
   "metadata": {},
   "source": [
    "Answer: r'[A-Z][a-z]* Watanabe '"
   ]
  },
  {
   "cell_type": "markdown",
   "id": "fa703950",
   "metadata": {},
   "source": [
    "### 22. How would you write a regex that matches a sentence where the first word is either Alice, Bob, or Carol; the second word is either eats, pets, or throws; the third word is apples, cats, or baseballs; and the sentence ends with a period? This regex should be case-insensitive. It must match the following:\n",
    "'Alice eats apples.'\n",
    "'Bob pets cats.'\n",
    "'Carol throws baseballs.'\n",
    "'Alice throws Apples.'\n",
    "'BOB EATS CATS.'\n",
    "but not the following:\n",
    "'RoboCop eats apples.'\n",
    "'ALICE THROWS FOOTBALLS.'\n",
    "'Carol eats 7 cats.'\n"
   ]
  },
  {
   "cell_type": "markdown",
   "id": "cdd1069c",
   "metadata": {},
   "source": [
    "Answer: re.compile(r'(Alice|Bob|Carol) (eats|pets|throws) (apples|cats|baseballs)\\.', re.IGNORECASE)"
   ]
  },
  {
   "cell_type": "code",
   "execution_count": null,
   "id": "d3d73396",
   "metadata": {},
   "outputs": [],
   "source": []
  }
 ],
 "metadata": {
  "kernelspec": {
   "display_name": "Python 3 (ipykernel)",
   "language": "python",
   "name": "python3"
  },
  "language_info": {
   "codemirror_mode": {
    "name": "ipython",
    "version": 3
   },
   "file_extension": ".py",
   "mimetype": "text/x-python",
   "name": "python",
   "nbconvert_exporter": "python",
   "pygments_lexer": "ipython3",
   "version": "3.9.12"
  }
 },
 "nbformat": 4,
 "nbformat_minor": 5
}
