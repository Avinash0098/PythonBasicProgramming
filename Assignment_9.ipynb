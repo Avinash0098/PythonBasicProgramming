{
 "cells": [
  {
   "cell_type": "markdown",
   "id": "1f68dea5",
   "metadata": {},
   "source": [
    "# Assignment_9"
   ]
  },
  {
   "cell_type": "markdown",
   "id": "3e0c010c",
   "metadata": {},
   "source": [
    "### 1. To what does a relative path refer?"
   ]
  },
  {
   "cell_type": "raw",
   "id": "56483156",
   "metadata": {},
   "source": [
    "Answer: The relative path is the path to some file with respect to your current working directory (PWD).\n",
    "    \n",
    "For example: \n",
    "if Absolute path to a file called stuff.txt is: C:/users/admin/docs/stuff.txt If my PWD is C:/users/admin/ , \n",
    "then the relative path to stuff.txt would be: docs/stuff.txt"
   ]
  },
  {
   "cell_type": "markdown",
   "id": "ead65d93",
   "metadata": {},
   "source": [
    "### 2. What does an absolute path start with your operating system?"
   ]
  },
  {
   "cell_type": "markdown",
   "id": "b66125b1",
   "metadata": {},
   "source": [
    "Answer:  In Linux based systems the absolute path starts with /. Where as in Windows based systems absolute path starts with C:"
   ]
  },
  {
   "cell_type": "markdown",
   "id": "a8920a08",
   "metadata": {},
   "source": [
    "### 3. What do the functions os.getcwd() and os.chdir() do?"
   ]
  },
  {
   "cell_type": "raw",
   "id": "2b72bd4d",
   "metadata": {},
   "source": [
    "Answer: os.getcwd() method tells us the location of current working directory (CWD). \n",
    "    Whereas os.chdir() method in Python used to change the current working directory to specified path. \n",
    "    These functions are similar to linux commands pwd and cd"
   ]
  },
  {
   "cell_type": "markdown",
   "id": "1f12652e",
   "metadata": {},
   "source": [
    "### 4. What are the . and .. folders?"
   ]
  },
  {
   "cell_type": "raw",
   "id": "baff23a4",
   "metadata": {},
   "source": [
    "Answer: . Represents the Current Directory Whereas .. Represents the Parent Directory of the Current Directory\n",
    "For Example: \n",
    "\n",
    "if the below path is my absolute path:\n",
    "C:\\\\Users\\\\lenovo\\\\Documents\\\\Assignments\\\\BasicAssignment\n",
    "Then . represents the path C:\\\\Users\\\\lenovo\\\\Documents\\\\Assignments\\\\BasicAssignment\n",
    "Where as .. represents the path C:\\\\Users\\\\lenovo\\\\Documents\\\\Assignments"
   ]
  },
  {
   "cell_type": "markdown",
   "id": "680cac1f",
   "metadata": {},
   "source": [
    "### 5. In C:\\bacon\\eggs\\spam.txt, which part is the dir name, and which part is the base name?"
   ]
  },
  {
   "cell_type": "raw",
   "id": "6ba0148c",
   "metadata": {},
   "source": [
    "Answer: For C:\\bacon\\eggs\\spam.txt\n",
    "        The dir name is C:\\\\bacon\\\\eggs\n",
    "        The Base name is spam.txt"
   ]
  },
  {
   "cell_type": "markdown",
   "id": "c786ca47",
   "metadata": {},
   "source": [
    "### 6. What are the three “mode” arguments that can be passed to the open() function?"
   ]
  },
  {
   "cell_type": "raw",
   "id": "b990efc5",
   "metadata": {},
   "source": [
    "Answer: A file can be Accessed in python using open() function. open function takes two arguments filename and mode of operation (optional). \n",
    "if mode is not provided the default mode of opening is read mode\n",
    "So, the syntax being: open(filename, mode)\n",
    "    \n",
    "‘r’ – Read Mode: This is the default mode for open(). The file is opened and a pointer is positioned at the beginning of the file’s content.\n",
    "‘w’ – Write Mode: Using this mode will overwrite any existing content in a file. If the given file does not exist, a new one will be created.\n",
    "‘r+’ – Read/Write Mode: Use this mode if you need to simultaneously read and write to a file.\n",
    "‘a’ – Append Mode: With this mode the user can append the data without overwriting any already existing data in the file.\n",
    "‘a+’ – Append and Read Mode: In this mode you can read and append the data without overwriting the original file.\n",
    "‘x’ – Exclusive Creating Mode: This mode is for the sole purpose of creating new files. Use this mode if you know the file to be written doesn’t exist beforehand.\n"
   ]
  },
  {
   "cell_type": "markdown",
   "id": "a71fd8fa",
   "metadata": {},
   "source": [
    "### 7. What happens if an existing file is opened in write mode?"
   ]
  },
  {
   "cell_type": "markdown",
   "id": "b5f4514d",
   "metadata": {},
   "source": [
    "Answer: Using this mode will overwrite any existing content in a file. If the given file does not exist, a new one will be created."
   ]
  },
  {
   "cell_type": "markdown",
   "id": "dd62877f",
   "metadata": {},
   "source": [
    "### 8. How do you tell the difference between read() and readlines()?"
   ]
  },
  {
   "cell_type": "raw",
   "id": "deb717d5",
   "metadata": {},
   "source": [
    "Answer: The main difference is that read() will read the whole file at once and then print out the first characters that take up as many bytes as you specify in the parenthesis\n",
    "Whereas the readline() that will read and print out only the first characters that take up as many bytes as you specify in the parenthesis. \n",
    "You may want to use readline() when you're reading files that are too big for your RAM.\n",
    "The read() would treat each character in the file separately, meaning that the iteration would happen for every character.\n",
    "The readline() function, on the other hand, only reads a single line of the file. This means that if the first line of the file were three lines long, the readline() function would only parse (or iterate/operate) on the first line of the file."
   ]
  },
  {
   "cell_type": "markdown",
   "id": "53f4c533",
   "metadata": {},
   "source": [
    "### 9. What data structure does a shelf value resemble?"
   ]
  },
  {
   "cell_type": "markdown",
   "id": "b74f5429",
   "metadata": {},
   "source": [
    "Answer:  it contains key and values it represents dictionary."
   ]
  }
 ],
 "metadata": {
  "kernelspec": {
   "display_name": "Python 3 (ipykernel)",
   "language": "python",
   "name": "python3"
  },
  "language_info": {
   "codemirror_mode": {
    "name": "ipython",
    "version": 3
   },
   "file_extension": ".py",
   "mimetype": "text/x-python",
   "name": "python",
   "nbconvert_exporter": "python",
   "pygments_lexer": "ipython3",
   "version": "3.9.12"
  }
 },
 "nbformat": 4,
 "nbformat_minor": 5
}
